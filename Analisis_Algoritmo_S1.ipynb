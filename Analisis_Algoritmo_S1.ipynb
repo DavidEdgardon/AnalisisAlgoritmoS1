{
  "nbformat": 4,
  "nbformat_minor": 0,
  "metadata": {
    "colab": {
      "name": "Analisis  Algoritmo S1",
      "provenance": []
    },
    "kernelspec": {
      "name": "python3",
      "display_name": "Python 3"
    }
  },
  "cells": [
    {
      "cell_type": "markdown",
      "metadata": {
        "id": "iAptVbB-l4yq"
      },
      "source": [
        "1. Bubble Sort"
      ]
    },
    {
      "cell_type": "markdown",
      "metadata": {
        "id": "aeWHyEuq49NE"
      },
      "source": [
        "c + c + n + c + n * n *(c+c) + n * c + c\n",
        "\n",
        "c + n + c + n2 * c + n * c + c\n",
        "\n",
        "**(n2 * c) * m** \n",
        "\n",
        "**Grado 2** "
      ]
    },
    {
      "cell_type": "code",
      "metadata": {
        "id": "oQTSr00evtRj",
        "outputId": "dc9281f3-3c87-4ae5-a61c-4a6baea3724a",
        "colab": {
          "base_uri": "https://localhost:8080/",
          "height": 134
        }
      },
      "source": [
        "from random import seed\n",
        "from random import randint\n",
        "import numpy as np\n",
        "\n",
        "def bubble_sort(cant):\n",
        "    listaDesordenada = []\n",
        "    seed(1)\n",
        "    for _ in range(cant):\n",
        "      listaDesordenada = np.append(listaDesordenada, randint(0,50))\n",
        "    veces = 0\n",
        "    for i in range(len(listaDesordenada)):\n",
        "        for j in range(len(listaDesordenada) - 1):\n",
        "            veces+=1\n",
        "            if listaDesordenada[j] > listaDesordenada[j+1]:\n",
        "                listaDesordenada[j], listaDesordenada[j+1] = listaDesordenada[j+1], listaDesordenada[j]\n",
        "    print(listaDesordenada)\n",
        "    return veces\n",
        "\n",
        "ns=[10, 50, 100, 1000, 5000, 10000, 20000]\n",
        "for n in ns:\n",
        "  veces = bubble_sort(n);\n",
        "  print(n , veces)\n"
      ],
      "execution_count": null,
      "outputs": [
        {
          "output_type": "stream",
          "text": [
            "10 90\n",
            "50 2450\n",
            "100 9900\n",
            "1000 999000\n",
            "5000 24995000\n",
            "10000 99990000\n",
            "20000 399980000\n"
          ],
          "name": "stdout"
        }
      ]
    },
    {
      "cell_type": "markdown",
      "metadata": {
        "id": "apRvbjD3IkGt"
      },
      "source": [
        "2. Insertion Sort\n",
        "\n",
        "**nc+nc+(n^2)c+nc**\n",
        "\n",
        "**Grado 2**"
      ]
    },
    {
      "cell_type": "code",
      "metadata": {
        "id": "YpohNJZW_xKW",
        "outputId": "94acf755-1a7a-4060-8a51-b1264ad05f35",
        "colab": {
          "base_uri": "https://localhost:8080/",
          "height": 138
        }
      },
      "source": [
        "from random import seed\n",
        "from random import randint\n",
        "import numpy as np\n",
        "\n",
        "def insertion_sort(cant):\n",
        "    listaDesordenada = []\n",
        "    seed(1)\n",
        "    for _ in range(cant):\n",
        "      listaDesordenada = np.append(listaDesordenada, randint(0,50))\n",
        "    veces = 0\n",
        "    for i in range(len(listaDesordenada)):\n",
        "        for j in range(i,0,-1):\n",
        "            veces+=1\n",
        "            if listaDesordenada[j] < listaDesordenada[j-1]:\n",
        "                listaDesordenada[j], listaDesordenada[j-1] = listaDesordenada[j-1], listaDesordenada[j]\n",
        "            else:\n",
        "              break\n",
        "    #print(listaDesordenada)\n",
        "    return veces\n",
        "\n",
        "ns=[10, 50, 100, 1000, 5000, 10000, 20000]\n",
        "for n in ns:\n",
        "  veces = insertion_sort(n);\n",
        "  print(n , veces)"
      ],
      "execution_count": null,
      "outputs": [
        {
          "output_type": "stream",
          "text": [
            "10 27\n",
            "50 661\n",
            "100 2362\n",
            "1000 239850\n",
            "5000 6164892\n",
            "10000 24521646\n",
            "20000 98038862\n"
          ],
          "name": "stdout"
        }
      ]
    },
    {
      "cell_type": "markdown",
      "metadata": {
        "id": "p-5KmHlml6jG"
      },
      "source": [
        "3. Fibonacci\n",
        "\n",
        "A- Iterativo\n"
      ]
    },
    {
      "cell_type": "code",
      "metadata": {
        "id": "fuR67QNqmGXT",
        "outputId": "7a5a5e3c-8add-4598-e660-567854b501bb",
        "colab": {
          "base_uri": "https://localhost:8080/",
          "height": 185
        }
      },
      "source": [
        "def fibonacci(cant):\n",
        "  first = 1\n",
        "  second = 1\n",
        "  cont = 0\n",
        "  temp = 0\n",
        "\n",
        "  while(cont < cant):\n",
        "    print(first)\n",
        "    temp = first + second\n",
        "    first = second\n",
        "    second = temp\n",
        "    cont = cont + 1\n",
        "\n",
        "fibonacci(10);"
      ],
      "execution_count": null,
      "outputs": [
        {
          "output_type": "stream",
          "text": [
            "1\n",
            "1\n",
            "2\n",
            "3\n",
            "5\n",
            "8\n",
            "13\n",
            "21\n",
            "34\n",
            "55\n"
          ],
          "name": "stdout"
        }
      ]
    },
    {
      "cell_type": "markdown",
      "metadata": {
        "id": "MIf0D8Ifo3g8"
      },
      "source": [
        "B- Recursivo"
      ]
    },
    {
      "cell_type": "code",
      "metadata": {
        "id": "PBLFmoSJo5xG",
        "outputId": "017b8f06-a305-4f1a-d3ef-4a78e19c6fde",
        "colab": {
          "base_uri": "https://localhost:8080/",
          "height": 857
        }
      },
      "source": [
        "def FibonacciRecursivo(cant,first,second):\n",
        "  if cant > 0:\n",
        "    print(first)\n",
        "    FibonacciRecursivo(cant - 1,second,first+second)\n",
        "\n",
        "FibonacciRecursivo(50,1,1)"
      ],
      "execution_count": null,
      "outputs": [
        {
          "output_type": "stream",
          "text": [
            "1\n",
            "1\n",
            "2\n",
            "3\n",
            "5\n",
            "8\n",
            "13\n",
            "21\n",
            "34\n",
            "55\n",
            "89\n",
            "144\n",
            "233\n",
            "377\n",
            "610\n",
            "987\n",
            "1597\n",
            "2584\n",
            "4181\n",
            "6765\n",
            "10946\n",
            "17711\n",
            "28657\n",
            "46368\n",
            "75025\n",
            "121393\n",
            "196418\n",
            "317811\n",
            "514229\n",
            "832040\n",
            "1346269\n",
            "2178309\n",
            "3524578\n",
            "5702887\n",
            "9227465\n",
            "14930352\n",
            "24157817\n",
            "39088169\n",
            "63245986\n",
            "102334155\n",
            "165580141\n",
            "267914296\n",
            "433494437\n",
            "701408733\n",
            "1134903170\n",
            "1836311903\n",
            "2971215073\n",
            "4807526976\n",
            "7778742049\n",
            "12586269025\n"
          ],
          "name": "stdout"
        }
      ]
    }
  ]
}